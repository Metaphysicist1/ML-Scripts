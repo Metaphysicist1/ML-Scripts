{
 "cells": [
  {
   "cell_type": "code",
   "execution_count": 2,
   "metadata": {},
   "outputs": [],
   "source": [
    "import numpy as np\n",
    "import pandas as pd\n",
    "import matplotlib.pyplot as plt\n",
    "import seaborn as sb"
   ]
  },
  {
   "cell_type": "code",
   "execution_count": 3,
   "metadata": {},
   "outputs": [
    {
     "name": "stderr",
     "output_type": "stream",
     "text": [
      "C:\\Users\\Metaphysicist\\AppData\\Local\\Temp\\ipykernel_5692\\1799224783.py:1: DtypeWarning: Columns (2) have mixed types. Specify dtype option on import or set low_memory=False.\n",
      "  df = pd.read_csv('city_temperature.csv')\n"
     ]
    },
    {
     "name": "stdout",
     "output_type": "stream",
     "text": [
      "   Region  Country State     City  Month  Day  Year  AvgTemperature\n",
      "0  Africa  Algeria   NaN  Algiers      1    1  1995            64.2\n",
      "1  Africa  Algeria   NaN  Algiers      1    2  1995            49.4\n",
      "2  Africa  Algeria   NaN  Algiers      1    3  1995            48.8\n",
      "3  Africa  Algeria   NaN  Algiers      1    4  1995            46.4\n",
      "4  Africa  Algeria   NaN  Algiers      1    5  1995            47.9\n"
     ]
    }
   ],
   "source": [
    "df = pd.read_csv('city_temperature.csv')\n",
    "print(df.head())"
   ]
  },
  {
   "cell_type": "markdown",
   "metadata": {},
   "source": [
    "### Data Cleaning Process "
   ]
  },
  {
   "cell_type": "code",
   "execution_count": 4,
   "metadata": {},
   "outputs": [
    {
     "name": "stdout",
     "output_type": "stream",
     "text": [
      "   Region  Country     City  Month  Day  Year  AvgTemperature\n",
      "0  Africa  Algeria  Algiers      1    1  1995            64.2\n",
      "1  Africa  Algeria  Algiers      1    2  1995            49.4\n",
      "2  Africa  Algeria  Algiers      1    3  1995            48.8\n",
      "<class 'pandas.core.frame.DataFrame'>\n",
      "RangeIndex: 2906327 entries, 0 to 2906326\n",
      "Data columns (total 7 columns):\n",
      " #   Column          Dtype  \n",
      "---  ------          -----  \n",
      " 0   Region          object \n",
      " 1   Country         object \n",
      " 2   City            object \n",
      " 3   Month           int64  \n",
      " 4   Day             int64  \n",
      " 5   Year            int64  \n",
      " 6   AvgTemperature  float64\n",
      "dtypes: float64(1), int64(3), object(3)\n",
      "memory usage: 155.2+ MB\n"
     ]
    }
   ],
   "source": [
    "data = df.drop('State',axis=1)\n",
    "print(data.head(n=3))\n",
    "data.isna().sum()\n",
    "data.info()\n",
    "\n"
   ]
  },
  {
   "cell_type": "code",
   "execution_count": 5,
   "metadata": {},
   "outputs": [
    {
     "name": "stdout",
     "output_type": "stream",
     "text": [
      "              Month           Day          Year  AvgTemperature\n",
      "count  2.906327e+06  2.906327e+06  2.906327e+06    2.906327e+06\n",
      "mean   6.469163e+00  1.571682e+01  2.006624e+03    5.600492e+01\n",
      "std    3.456489e+00  8.800534e+00  2.338226e+01    3.212359e+01\n",
      "min    1.000000e+00  0.000000e+00  2.000000e+02   -9.900000e+01\n",
      "25%    3.000000e+00  8.000000e+00  2.001000e+03    4.580000e+01\n",
      "50%    6.000000e+00  1.600000e+01  2.007000e+03    6.250000e+01\n",
      "75%    9.000000e+00  2.300000e+01  2.013000e+03    7.550000e+01\n",
      "max    1.200000e+01  3.100000e+01  2.020000e+03    1.100000e+02\n",
      "<class 'pandas.core.frame.DataFrame'>\n",
      "RangeIndex: 2906327 entries, 0 to 2906326\n",
      "Data columns (total 7 columns):\n",
      " #   Column          Dtype  \n",
      "---  ------          -----  \n",
      " 0   Region          object \n",
      " 1   Country         object \n",
      " 2   City            object \n",
      " 3   Month           int64  \n",
      " 4   Day             int64  \n",
      " 5   Year            int64  \n",
      " 6   AvgTemperature  float64\n",
      "dtypes: float64(1), int64(3), object(3)\n",
      "memory usage: 155.2+ MB\n",
      "None\n",
      "   Region  Country     City  Month  Day  Year  AvgTemperature\n",
      "0  Africa  Algeria  Algiers      1    1  1995            64.2\n",
      "1  Africa  Algeria  Algiers      1    2  1995            49.4\n",
      "2  Africa  Algeria  Algiers      1    3  1995            48.8\n",
      "3  Africa  Algeria  Algiers      1    4  1995            46.4\n",
      "4  Africa  Algeria  Algiers      1    5  1995            47.9\n"
     ]
    }
   ],
   "source": [
    "data['Region'] = data['Region'].astype('str') \n",
    "data['Country'] = data['Country'].astype('str') \n",
    "data['City'] = data['City'].astype('str') \n",
    "print(data.describe())\n",
    "print(data.info())\n",
    "print(data.head())\n",
    "\n",
    "#data['Date'] = pd.to_datetime(data[['Year','Month','Day']])\n",
    "#print(data['Date'])"
   ]
  },
  {
   "cell_type": "code",
   "execution_count": 6,
   "metadata": {},
   "outputs": [
    {
     "name": "stdout",
     "output_type": "stream",
     "text": [
      "<class 'pandas.core.frame.DataFrame'>\n",
      "RangeIndex: 2906327 entries, 0 to 2906326\n",
      "Data columns (total 7 columns):\n",
      " #   Column          Dtype  \n",
      "---  ------          -----  \n",
      " 0   Region          object \n",
      " 1   Country         object \n",
      " 2   City            object \n",
      " 3   Month           int64  \n",
      " 4   Day             int64  \n",
      " 5   Year            int64  \n",
      " 6   AvgTemperature  float64\n",
      "dtypes: float64(1), int64(3), object(3)\n",
      "memory usage: 155.2+ MB\n",
      "None\n"
     ]
    }
   ],
   "source": [
    "print(data.info())"
   ]
  }
 ],
 "metadata": {
  "kernelspec": {
   "display_name": "Python 3.10.9 ('.project')",
   "language": "python",
   "name": "python3"
  },
  "language_info": {
   "codemirror_mode": {
    "name": "ipython",
    "version": 3
   },
   "file_extension": ".py",
   "mimetype": "text/x-python",
   "name": "python",
   "nbconvert_exporter": "python",
   "pygments_lexer": "ipython3",
   "version": "3.10.9"
  },
  "orig_nbformat": 4,
  "vscode": {
   "interpreter": {
    "hash": "f940d089c7b1458eb1ba37869aef5a0395411d65f3814a43f33568116cde91f6"
   }
  }
 },
 "nbformat": 4,
 "nbformat_minor": 2
}
