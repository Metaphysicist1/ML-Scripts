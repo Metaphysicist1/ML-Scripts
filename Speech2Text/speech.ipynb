{
 "cells": [
  {
   "cell_type": "code",
   "execution_count": 1,
   "metadata": {},
   "outputs": [
    {
     "name": "stderr",
     "output_type": "stream",
     "text": [
      "d:\\Projects\\ML\\Transformers\\.env\\lib\\site-packages\\tqdm\\auto.py:22: TqdmWarning: IProgress not found. Please update jupyter and ipywidgets. See https://ipywidgets.readthedocs.io/en/stable/user_install.html\n",
      "  from .autonotebook import tqdm as notebook_tqdm\n"
     ]
    }
   ],
   "source": [
    "from transformers import pipeline"
   ]
  },
  {
   "cell_type": "code",
   "execution_count": 27,
   "metadata": {},
   "outputs": [
    {
     "name": "stderr",
     "output_type": "stream",
     "text": [
      "No model was supplied, defaulted to facebook/wav2vec2-base-960h and revision 55bb623 (https://huggingface.co/facebook/wav2vec2-base-960h).\n",
      "Using a pipeline without specifying a model name and revision in production is not recommended.\n",
      "Some weights of Wav2Vec2ForCTC were not initialized from the model checkpoint at facebook/wav2vec2-base-960h and are newly initialized: ['wav2vec2.masked_spec_embed']\n",
      "You should probably TRAIN this model on a down-stream task to be able to use it for predictions and inference.\n"
     ]
    }
   ],
   "source": [
    "s2t = pipeline(task='automatic-speech-recognition')"
   ]
  },
  {
   "cell_type": "code",
   "execution_count": 29,
   "metadata": {},
   "outputs": [
    {
     "data": {
      "text/plain": [
       "{'text': 'EVERY WORD AND PHRASE HE SPEAKS IS TRUE HE PUT HIS LAST CARTRIDGE INTO THE GUN AND FIRED THEY TOOK THEIR KIDS FROM THE PUBLIC SCHOOL DRIVE THE SCREW STRAIGHT INTO THE WOOD KEEP THE HATCH TIGHT AND THE WATCH CONSTANT SEVER THE TWINE WITH A QUICK SNIP OF THE KNIFE PAPER WILL DRY OUT WHEN WET SLIDE THE CATCHBACK AND OPEN THE DESK HELP THE WEAK TO PRESERVE THEIR STRENGTH A SULLEN SMILE GETS FEW FRIENDS'}"
      ]
     },
     "execution_count": 29,
     "metadata": {},
     "output_type": "execute_result"
    }
   ],
   "source": [
    "import os\n",
    "path = 'D:\\Projects\\ML\\Transformers'\n",
    "# print(os.getcwd())\n",
    "os.chdir(path)\n",
    "file = open(\"speech1.wav\", \"rb\")\n",
    "data = file.read()\n",
    "s2t(data)\n"
   ]
  }
 ],
 "metadata": {
  "kernelspec": {
   "display_name": "Python 3.10.9 ('.env': venv)",
   "language": "python",
   "name": "python3"
  },
  "language_info": {
   "codemirror_mode": {
    "name": "ipython",
    "version": 3
   },
   "file_extension": ".py",
   "mimetype": "text/x-python",
   "name": "python",
   "nbconvert_exporter": "python",
   "pygments_lexer": "ipython3",
   "version": "3.10.9"
  },
  "orig_nbformat": 4,
  "vscode": {
   "interpreter": {
    "hash": "ba481f8fe9ba1672302cb0d4c0f8193656debe1a3ab115e9555f5ab5d6c2164c"
   }
  }
 },
 "nbformat": 4,
 "nbformat_minor": 2
}
